{
 "cells": [
  {
   "cell_type": "markdown",
   "metadata": {},
   "source": [
    "# Kullanıcıdan Girdi alma "
   ]
  },
  {
   "cell_type": "markdown",
   "metadata": {},
   "source": [
    "Programlama esnasında kullanıcıdan girdi almak için input() fonksiyonu kullanılır"
   ]
  },
  {
   "cell_type": "code",
   "execution_count": 3,
   "metadata": {},
   "outputs": [
    {
     "name": "stdout",
     "output_type": "stream",
     "text": [
      "Lütfen bir sayı giriniz:24\n"
     ]
    },
    {
     "data": {
      "text/plain": [
       "'24'"
      ]
     },
     "execution_count": 3,
     "metadata": {},
     "output_type": "execute_result"
    }
   ],
   "source": [
    "input(\"Lütfen bir sayı giriniz:\")"
   ]
  },
  {
   "cell_type": "markdown",
   "metadata": {},
   "source": [
    "Bu şekilde kullanıldığında yukarıda girilen 24 sayısı değişken olarak tanımlanmaz. Girilen değerin, python tarafından yakalanması için şu yol izlenir"
   ]
  },
  {
   "cell_type": "code",
   "execution_count": 7,
   "metadata": {},
   "outputs": [
    {
     "name": "stdout",
     "output_type": "stream",
     "text": [
      "Lütfen bir sayı giriniz:35\n",
      "Kullanıcının girdiği değer 35\n"
     ]
    }
   ],
   "source": [
    "x = input(\"Lütfen bir sayı giriniz:\")\n",
    "print(\"Kullanıcının girdiği değer\",x)"
   ]
  },
  {
   "cell_type": "code",
   "execution_count": 9,
   "metadata": {},
   "outputs": [
    {
     "name": "stdout",
     "output_type": "stream",
     "text": [
      "Lütfen bir sayı giriniz:20\n",
      "202020\n"
     ]
    }
   ],
   "source": [
    "x = input(\"Lütfen bir sayı giriniz:\")\n",
    "print(x*3)"
   ]
  },
  {
   "cell_type": "markdown",
   "metadata": {},
   "source": [
    "Neden bu şekilde oldu da 60 olmadı ? "
   ]
  },
  {
   "cell_type": "code",
   "execution_count": 10,
   "metadata": {},
   "outputs": [
    {
     "name": "stdout",
     "output_type": "stream",
     "text": [
      "Lütfen bir sayı giriniz:20\n",
      "<class 'str'>\n"
     ]
    }
   ],
   "source": [
    "x = input(\"Lütfen bir sayı giriniz:\")\n",
    "print(type(x))"
   ]
  },
  {
   "cell_type": "markdown",
   "metadata": {},
   "source": [
    "Dikkat edilirse x değişkeni string değişkenidir, sayı değildir ! input() fonksiyonunda girilen değer Python tarafından string olarak değerlendirilir. O halde bunu sayışa dönüştürmek gerekir ! "
   ]
  },
  {
   "cell_type": "code",
   "execution_count": 11,
   "metadata": {},
   "outputs": [
    {
     "name": "stdout",
     "output_type": "stream",
     "text": [
      "Lütfen bir sayı giriniz:20\n",
      "60\n"
     ]
    }
   ],
   "source": [
    "x = int(input(\"Lütfen bir sayı giriniz:\")) \n",
    "print(x*3)"
   ]
  },
  {
   "cell_type": "code",
   "execution_count": 13,
   "metadata": {},
   "outputs": [
    {
     "name": "stdout",
     "output_type": "stream",
     "text": [
      "birinci sayı40\n",
      "ikinci sayı20\n",
      "üçüncü sayı100\n",
      "toplamları= 160\n"
     ]
    }
   ],
   "source": [
    "a = int(input(\"birinci sayı\"))\n",
    "b = int(input(\"ikinci sayı\"))\n",
    "c = int(input(\"üçüncü sayı\"))\n",
    "print(\"toplamları=\",a+b+c)"
   ]
  },
  {
   "cell_type": "markdown",
   "metadata": {},
   "source": [
    "Daha önce sayı karakteri ile girilmeyen stringlerin sayı değişkeni olarak dönüştürülemediğine değinilmişti. Aşağıdaki uygulamaya ve henüz erken olmasına karşın sorununun aşılma yöntemine dikkat ediniz. "
   ]
  },
  {
   "cell_type": "code",
   "execution_count": 14,
   "metadata": {},
   "outputs": [
    {
     "name": "stdout",
     "output_type": "stream",
     "text": [
      "a:21xyzt\n"
     ]
    },
    {
     "ename": "ValueError",
     "evalue": "invalid literal for int() with base 10: '21xyzt'",
     "output_type": "error",
     "traceback": [
      "\u001b[1;31m---------------------------------------------------------------------------\u001b[0m",
      "\u001b[1;31mValueError\u001b[0m                                Traceback (most recent call last)",
      "\u001b[1;32m<ipython-input-14-e87a38b7f97d>\u001b[0m in \u001b[0;36m<module>\u001b[1;34m\u001b[0m\n\u001b[1;32m----> 1\u001b[1;33m \u001b[0ma\u001b[0m \u001b[1;33m=\u001b[0m \u001b[0mint\u001b[0m\u001b[1;33m(\u001b[0m\u001b[0minput\u001b[0m\u001b[1;33m(\u001b[0m\u001b[1;34m\"a:\"\u001b[0m\u001b[1;33m)\u001b[0m\u001b[1;33m)\u001b[0m\u001b[1;33m\u001b[0m\u001b[1;33m\u001b[0m\u001b[0m\n\u001b[0m\u001b[0;32m      2\u001b[0m \u001b[0mprint\u001b[0m\u001b[1;33m(\u001b[0m\u001b[0ma\u001b[0m\u001b[1;33m)\u001b[0m\u001b[1;33m\u001b[0m\u001b[1;33m\u001b[0m\u001b[0m\n",
      "\u001b[1;31mValueError\u001b[0m: invalid literal for int() with base 10: '21xyzt'"
     ]
    }
   ],
   "source": [
    "a = int(input(\"a:\"))\n",
    "print(a)"
   ]
  },
  {
   "cell_type": "code",
   "execution_count": 16,
   "metadata": {},
   "outputs": [
    {
     "name": "stdout",
     "output_type": "stream",
     "text": [
      "a:21xyzt\n",
      "Lütfen doğru bir sayı giriniz\n"
     ]
    }
   ],
   "source": [
    "try: \n",
    "    a = a =int(input(\"a:\"))\n",
    "    print(a)\n",
    "except ValueError:\n",
    "    print(\"Lütfen doğru bir sayı giriniz\")"
   ]
  },
  {
   "cell_type": "markdown",
   "metadata": {},
   "source": [
    " String değişken tanımlamak için de aşağıdaki uygulamadan faydalanılabilir. "
   ]
  },
  {
   "cell_type": "code",
   "execution_count": 18,
   "metadata": {},
   "outputs": [
    {
     "name": "stdout",
     "output_type": "stream",
     "text": [
      "isim:Gökhan\n",
      "isminiz Gökhan\n"
     ]
    }
   ],
   "source": [
    "isim = input(\"isim:\")\n",
    "print(\"isminiz\",isim)"
   ]
  },
  {
   "cell_type": "code",
   "execution_count": null,
   "metadata": {},
   "outputs": [],
   "source": []
  }
 ],
 "metadata": {
  "kernelspec": {
   "display_name": "Python 3",
   "language": "python",
   "name": "python3"
  },
  "language_info": {
   "codemirror_mode": {
    "name": "ipython",
    "version": 3
   },
   "file_extension": ".py",
   "mimetype": "text/x-python",
   "name": "python",
   "nbconvert_exporter": "python",
   "pygments_lexer": "ipython3",
   "version": "3.7.4"
  }
 },
 "nbformat": 4,
 "nbformat_minor": 2
}
